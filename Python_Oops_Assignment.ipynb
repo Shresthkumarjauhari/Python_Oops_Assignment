{
  "nbformat": 4,
  "nbformat_minor": 0,
  "metadata": {
    "colab": {
      "provenance": []
    },
    "kernelspec": {
      "name": "python3",
      "display_name": "Python 3"
    },
    "language_info": {
      "name": "python"
    }
  },
  "cells": [
    {
      "cell_type": "markdown",
      "source": [
        "**Theory Questions**\n",
        "\n",
        "Q1- **What is Object-Oriented Programming (OOP)?**\n",
        "\n",
        "    - A programming paradigm based on the concept of \"objects\" which can contain data in the form of fields and code in the form of procedures or methods.\n",
        "\n",
        "Q2- **What is a class in OOP?**\n",
        "\n",
        "    - A blueprint for creating objects, providing initial values for state (member variables or attributes), and implementations of behavior (member functions or methods).\n",
        "\n",
        "Q3- **What is an object in OOP?**\n",
        "\n",
        "    - An instance of a class that consists of data and behavior defined by the class.\n",
        "\n",
        "Q5- **What is the difference between abstraction and encapsulation?**\n",
        "\n",
        "    - Abstraction hides complex reality while showing only the necessary parts. Encapsulation hides the internal state of the object and protects it from unwanted changes.\n",
        "\n",
        "Q6- **What are dunder methods in Python?**\n",
        "\n",
        "    - Special methods in Python with double underscores before and after the name, like __init__ and __str__, used to enable various functionalities.\n",
        "\n",
        "Q7- **Explain the concept of inheritance in OOP**.\n",
        "\n",
        "    - A mechanism where a new class inherits properties and behaviors from an existing class.\n",
        "\n",
        "Q8- **What is polymorphism in OOP?**\n",
        "\n",
        "    - The ability to present the same interface for different underlying data types.\n",
        "\n",
        "Q9- **How is encapsulation achieved in Python?**\n",
        "\n",
        "    - Achieved with private and protected access specifiers where private attributes are denoted with a single underscore _ and double underscore __.\n",
        "\n",
        "**What is a constructor in Python?**\n",
        "\n",
        "    - The __init__ method used to initialize a newly created object.\n",
        "\n",
        "Q10- **What are class and static methods in Python?**\n",
        "\n",
        "    - Class methods take cls as the first parameter and can access class variables, whereas static methods do not have access to cls or self.\n",
        "\n",
        "Q11- **What is method overloading in Python?**\n",
        "\n",
        "    - Python does not support method overloading. Default arguments can achieve similar behavior.\n",
        "\n",
        "Q12- **What is method overriding in OOP?**\n",
        "\n",
        "    - Redefining a method in a derived class that is already defined in the base class.\n",
        "\n",
        "Q13- **What is a property decorator in Python?**\n",
        "\n",
        "    - Used to make class attributes behave like properties, allowing getter, setter, and deleter functionality.\n",
        "\n",
        "Q14- **Why is polymorphism important in OOP?**\n",
        "\n",
        "    - Allows for writing more generic and reusable code by interpreting or processing objects differently based on their actual data type.\n",
        "\n",
        "Q15- **What is an abstract class in Python?**\n",
        "\n",
        "    - A class that cannot be instantiated and often contains abstract methods that must be implemented by derived classes.\n",
        "\n",
        "Q16- **What are the advantages of OOP?**\n",
        "\n",
        "    - Modularity, reusability, scalability, and ease of maintenance.\n",
        "\n",
        "Q17- **What is multiple inheritance in Python?**\n",
        "\n",
        "    - A class can inherit from more than one class.\n",
        "\n",
        "Q18- **What is the difference between a class variable and an instance variable?**\n",
        "\n",
        "    - Class variables are shared across all instances, whereas instance variables are specific to each object.\n",
        "\n",
        "Q19- **Explain the purpose of __str__ and __repr__ methods in Python.**\n",
        "\n",
        "    - __str__ provides a human-readable string representation, whereas __repr__ provides an unambiguous string representation.\n",
        "\n",
        "Q20- **What is the significance of the super() function in Python?**\n",
        "\n",
        "    - Allows calling methods from a parent class.\n",
        "\n",
        "Q21- **What is the significance of the __del__ method in Python?**\n",
        "\n",
        "    - A destructor method that is called when an object is about to be destroyed.\n",
        "\n",
        "Q22- **What is the difference between @staticmethod and @classmethod in Python?**\n",
        "\n",
        "    - @staticmethod does not access any properties of an instance or the class, whereas @classmethod can access class variables.\n",
        "\n",
        "Q23- **How does polymorphism work in Python with inheritance?**\n",
        "\n",
        "    - Enables using a single interface to refer to different types of objects at runtime.\n",
        "\n",
        "Q24- **What is method chaining in Python OOP?**\n",
        "\n",
        "    - Calling multiple methods on the same object in a single line by having each method return self.\n",
        "\n",
        "Q25- **What is the purpose of the __call__ method in Python?**\n",
        "\n",
        "    - Allows an instance of a class to be called as a function."
      ],
      "metadata": {
        "id": "EW59Q4uIAqLt"
      }
    },
    {
      "cell_type": "markdown",
      "source": [
        "**Practical Questions**\n",
        "\n",
        "Q1 - Create a parent class Animal with a method speak() that prints a generic message. Create a child class Dog that overrides the speak() method to print \"Bark!\"."
      ],
      "metadata": {
        "id": "_zAwrpvvC7Bi"
      }
    },
    {
      "cell_type": "code",
      "source": [
        "class Animal:\n",
        "    def speak(self):\n",
        "        print(\"Animal speaks\")\n",
        "\n",
        "class Dog(Animal):\n",
        "    def speak(self):\n",
        "        print(\"Bark!\")"
      ],
      "metadata": {
        "id": "IUpaU7jXD172"
      },
      "execution_count": 34,
      "outputs": []
    },
    {
      "cell_type": "code",
      "source": [
        "print(\"Animal speaks\")\n",
        "print(\"Bark!\")"
      ],
      "metadata": {
        "colab": {
          "base_uri": "https://localhost:8080/"
        },
        "id": "TTXBDbxKFyVL",
        "outputId": "a50fa5cb-4868-4c64-bddc-6ae575f2d833"
      },
      "execution_count": 11,
      "outputs": [
        {
          "output_type": "stream",
          "name": "stdout",
          "text": [
            "Animal speaks\n",
            "Bark!\n"
          ]
        }
      ]
    },
    {
      "cell_type": "markdown",
      "source": [
        "Q2-**Write a program to create an abstract class Shape with a method area(). Derive classes Circle and Rectangle from it and implement the area() method in both**"
      ],
      "metadata": {
        "id": "NYRFgptIGCnd"
      }
    },
    {
      "cell_type": "code",
      "source": [
        "from abc import ABC, abstractmethod\n",
        "\n",
        "class Shape(ABC):\n",
        "    @abstractmethod\n",
        "    def area(self):\n",
        "        pass\n",
        "\n",
        "class Circle(Shape):\n",
        "    def __init__(self, radius):\n",
        "        self.radius = radius\n",
        "\n",
        "    def area(self):\n",
        "        return 3.14 * self.radius * self.radius\n",
        "\n",
        "class Rectangle(Shape):\n",
        "    def __init__(self, width, height):\n",
        "        self.width = width\n",
        "        self.height = height\n",
        "\n",
        "    def area(self):\n",
        "        return self.width * self.height"
      ],
      "metadata": {
        "id": "Op5li80CGW0K"
      },
      "execution_count": 12,
      "outputs": []
    },
    {
      "cell_type": "markdown",
      "source": [
        "Q3 - **Implement a multi-level inheritance scenario where a class Vehicle has an attribute type. Derive a class Car and further derive a class ElectricCar that adds a battery attribute.**"
      ],
      "metadata": {
        "id": "DAHz7RZ0HANx"
      }
    },
    {
      "cell_type": "code",
      "source": [
        "class Vehicle:\n",
        "    def __init__(self, vehicle_type):\n",
        "        self.type = vehicle_type\n",
        "\n",
        "class Car(Vehicle):\n",
        "    def __init__(self, vehicle_type, brand):\n",
        "        super().__init__(vehicle_type)\n",
        "        self.brand = brand\n",
        "\n",
        "class ElectricCar(Car):\n",
        "    def __init__(self, vehicle_type, brand, battery):\n",
        "        super().__init__(vehicle_type, brand)\n",
        "        self.battery = battery"
      ],
      "metadata": {
        "id": "X-RjKsWFHNud"
      },
      "execution_count": 16,
      "outputs": []
    },
    {
      "cell_type": "markdown",
      "source": [
        "Q4 - **Demonstrate polymorphism by creating a base class Bird with a method fly(). Create two derived classes Sparrow and Penguin that override the fly() method.**"
      ],
      "metadata": {
        "id": "XpPwJHHJHTwP"
      }
    },
    {
      "cell_type": "code",
      "source": [
        "class Bird:\n",
        "    def fly(self):\n",
        "        print(\"Birds can fly\")\n",
        "\n",
        "class Sparrow(Bird):\n",
        "    def fly(self):\n",
        "        print(\"Sparrow flying\")\n",
        "\n",
        "class Penguin(Bird):\n",
        "    def fly(self):\n",
        "        print(\"Penguins cannot fly\")"
      ],
      "metadata": {
        "id": "HH_CuyrIHhoF"
      },
      "execution_count": 17,
      "outputs": []
    },
    {
      "cell_type": "markdown",
      "source": [
        "Q5 - **Write a program to demonstrate encapsulation by creating a class BankAccount with private attributes balance and methods to deposit, withdraw, and check balance.**"
      ],
      "metadata": {
        "id": "I9ExyEuOHlJC"
      }
    },
    {
      "cell_type": "code",
      "source": [
        "class BankAccount:\n",
        "    def __init__(self):\n",
        "        self.__balance = 0\n",
        "\n",
        "    def deposit(self, amount):\n",
        "        self.__balance += amount\n",
        "\n",
        "    def withdraw(self, amount):\n",
        "        if amount <= self.__balance:\n",
        "            self.__balance -= amount\n",
        "        else:\n",
        "            print(\"Insufficient funds\")\n",
        "\n",
        "    def get_balance(self):\n",
        "        return self.__balance"
      ],
      "metadata": {
        "id": "BATR2CUhHuAV"
      },
      "execution_count": 18,
      "outputs": []
    },
    {
      "cell_type": "markdown",
      "source": [
        "Q6 - **Demonstrate runtime polymorphism using a method play() in a base class Instrument. Derive classes Guitar and Piano that implement their own version of play().**"
      ],
      "metadata": {
        "id": "dGUmTGXYHxr1"
      }
    },
    {
      "cell_type": "code",
      "source": [
        "class Instrument:\n",
        "    def play(self):\n",
        "        raise NotImplementedError\n",
        "\n",
        "class Guitar(Instrument):\n",
        "    def play(self):\n",
        "        print(\"Playing guitar\")\n",
        "\n",
        "class Piano(Instrument):\n",
        "    def play(self):\n",
        "        print(\"Playing piano\")"
      ],
      "metadata": {
        "id": "ykZciI34ICI8"
      },
      "execution_count": 19,
      "outputs": []
    },
    {
      "cell_type": "markdown",
      "source": [
        "Q7 - **Create a class MathOperations with a class method add_numbers() to add two numbers and a static method subtract_numbers() to subtract two numbers.**"
      ],
      "metadata": {
        "id": "B7m_XnHtIFrI"
      }
    },
    {
      "cell_type": "code",
      "source": [
        "class MathOperations:\n",
        "    @classmethod\n",
        "    def add_numbers(cls, a, b):\n",
        "        return a + b\n",
        "\n",
        "    @staticmethod\n",
        "    def subtract_numbers(a, b):\n",
        "        return a - b"
      ],
      "metadata": {
        "id": "tpAxKTrsINJ4"
      },
      "execution_count": 21,
      "outputs": []
    },
    {
      "cell_type": "markdown",
      "source": [
        "Q8 - **Implement a class Person with a class method to count the total number of persons created.**"
      ],
      "metadata": {
        "id": "umb_jA2pIhtm"
      }
    },
    {
      "cell_type": "code",
      "source": [
        "class Person:\n",
        "    count = 0\n",
        "\n",
        "    def __init__(self):\n",
        "        Person.count += 1\n",
        "\n",
        "    @classmethod\n",
        "    def count_persons(cls):\n",
        "        return cls.count"
      ],
      "metadata": {
        "id": "Fj-2U-aDItwW"
      },
      "execution_count": 23,
      "outputs": []
    },
    {
      "cell_type": "markdown",
      "source": [
        "Q9 - **Write a class Fraction with attributes numerator and denominator. Override the str method to display the fraction as \"numerator/denominator\".**"
      ],
      "metadata": {
        "id": "P-pg7tJ4I29R"
      }
    },
    {
      "cell_type": "code",
      "source": [
        "class Fraction:\n",
        "    def __init__(self, numerator, denominator):\n",
        "        self.numerator = numerator\n",
        "        self.denominator = denominator\n",
        "\n",
        "    def __str__(self):\n",
        "        return f\"{self.numerator}/{self.denominator}\""
      ],
      "metadata": {
        "id": "LLXceiv_JCG_"
      },
      "execution_count": 24,
      "outputs": []
    },
    {
      "cell_type": "markdown",
      "source": [
        "Q10 - **Demonstrate operator overloading by creating a class Vector and overriding the add method to add two vectors.**"
      ],
      "metadata": {
        "id": "yluCl-peJKDU"
      }
    },
    {
      "cell_type": "code",
      "source": [
        "class Vector:\n",
        "    def __init__(self, x, y):\n",
        "        self.x = x\n",
        "        self.y = y\n",
        "\n",
        "    def __add__(self, other):\n",
        "        return Vector(self.x + other.x, self.y + other.y)"
      ],
      "metadata": {
        "id": "qIJqNclIJWgD"
      },
      "execution_count": 25,
      "outputs": []
    },
    {
      "cell_type": "markdown",
      "source": [
        "Q11 - **Create a class Person with attributes name and age. Add a method greet() that prints \"Hello, my name is {name} and I am {age} years old.\"**"
      ],
      "metadata": {
        "id": "nrTndfv-JgDY"
      }
    },
    {
      "cell_type": "code",
      "source": [
        "class Person:\n",
        "    def __init__(self, name, age):\n",
        "        self.name = name\n",
        "        self.age = age\n",
        "\n",
        "    def greet(self):\n",
        "        print(f\"Hello, my name is {self.name} and I am {self.age} years old.\")"
      ],
      "metadata": {
        "id": "M8x2F9qQJqSq"
      },
      "execution_count": 26,
      "outputs": []
    },
    {
      "cell_type": "markdown",
      "source": [
        "Q12 - **Implement a class Student with attributes name and grades. Create a method average_grade() to compute the average of the grades.**"
      ],
      "metadata": {
        "id": "EhvpeJBkK6LS"
      }
    },
    {
      "cell_type": "code",
      "source": [
        "class Student:\n",
        "    def __init__(self, name, grades):\n",
        "        self.name = name\n",
        "        self.grades = grades\n",
        "\n",
        "    def average_grade(self):\n",
        "        return sum(self.grades) / len(self.grades)"
      ],
      "metadata": {
        "id": "TRcDtjM-LDTo"
      },
      "execution_count": 27,
      "outputs": []
    },
    {
      "cell_type": "markdown",
      "source": [
        "Q13 - **Create a class Rectangle with methods set_dimensions() to set the dimensions and area() to calculate the area.**"
      ],
      "metadata": {
        "id": "ntv8KkJULKvB"
      }
    },
    {
      "cell_type": "code",
      "source": [
        "class Rectangle:\n",
        "    def __init__(self):\n",
        "        self.width = 0\n",
        "        self.height = 0\n",
        "\n",
        "    def set_dimensions(self, width, height):\n",
        "        self.width = width\n",
        "        self.height = height\n",
        "\n",
        "    def area(self):\n",
        "        return self.width * self.height"
      ],
      "metadata": {
        "id": "ehys7bQLLXMv"
      },
      "execution_count": 28,
      "outputs": []
    },
    {
      "cell_type": "markdown",
      "source": [
        "Q14 - **Create a class Employee with a method calculate_salary() that computes the salary based on hours worked and hourly rate. Create a derived class Manager that adds a bonus to the salary.**"
      ],
      "metadata": {
        "id": "YuEFuX21LaY1"
      }
    },
    {
      "cell_type": "code",
      "source": [
        "class Employee:\n",
        "    def __init__(self, hours_worked, hourly_rate):\n",
        "        self.hours_worked = hours_worked\n",
        "        self.hourly_rate = hourly_rate\n",
        "\n",
        "    def calculate_salary(self):\n",
        "        return self.hours_worked * self.hourly_rate\n",
        "\n",
        "class Manager(Employee):\n",
        "    def __init__(self, hours_worked, hourly_rate, bonus):\n",
        "        super().__init__(hours_worked, hourly_rate)\n",
        "        self.bonus = bonus\n",
        "\n",
        "    def calculate_salary(self):\n",
        "        base_salary = super().calculate_salary()\n",
        "        return base_salary + self.bonus"
      ],
      "metadata": {
        "id": "3mkAhaXMLjIa"
      },
      "execution_count": 29,
      "outputs": []
    },
    {
      "cell_type": "markdown",
      "source": [
        "Q15 - **Create a class Product with attributes name, price, and quantity. Implement a method total_price() that calculates the total price of the product.**"
      ],
      "metadata": {
        "id": "LXOtMbzoLnzu"
      }
    },
    {
      "cell_type": "code",
      "source": [
        "class Product:\n",
        "    def __init__(self, name, price, quantity):\n",
        "        self.name = name\n",
        "        self.price = price\n",
        "        self.quantity = quantity\n",
        "\n",
        "    def total_price(self):\n",
        "        return self.price * self.quantity"
      ],
      "metadata": {
        "id": "6BjUIeyGL0RB"
      },
      "execution_count": 30,
      "outputs": []
    },
    {
      "cell_type": "markdown",
      "source": [
        "Q16 - **Create a class Animal with an abstract method sound(). Create two derived classes Cow and Sheep that implement the sound() method.**"
      ],
      "metadata": {
        "id": "zAFIXLQML3oi"
      }
    },
    {
      "cell_type": "code",
      "source": [
        "from abc import ABC, abstractmethod\n",
        "\n",
        "class Animal(ABC):\n",
        "    @abstractmethod\n",
        "    def sound(self):\n",
        "        pass\n",
        "\n",
        "class Cow(Animal):\n",
        "    def sound(self):\n",
        "        return \"Moo\"\n",
        "\n",
        "class Sheep(Animal):\n",
        "    def sound(self):\n",
        "        return \"Baa\""
      ],
      "metadata": {
        "id": "_FTUPjcGL-bp"
      },
      "execution_count": 31,
      "outputs": []
    },
    {
      "cell_type": "markdown",
      "source": [
        "Q17 - **Create a class Book with attributes title, author, and year_published. Add a method get_book_info() that returns a formatted string with the book's details.**"
      ],
      "metadata": {
        "id": "TPr6aU0zMC7I"
      }
    },
    {
      "cell_type": "code",
      "source": [
        "class Book:\n",
        "    def __init__(self, title, author, year_published):\n",
        "        self.title = title\n",
        "        self.author = author\n",
        "        self.year_published = year_published\n",
        "\n",
        "    def get_book_info(self):\n",
        "        return f\"'{self.title}' by {self.author}, published in {self.year_published}\""
      ],
      "metadata": {
        "id": "gzAZX2blMKsN"
      },
      "execution_count": 32,
      "outputs": []
    },
    {
      "cell_type": "markdown",
      "source": [
        "Q18 - **Create a class House with attributes address and price. Create a derived class Mansion that adds an attribute number_of_rooms.**"
      ],
      "metadata": {
        "id": "XKGd2sWCMQfn"
      }
    },
    {
      "cell_type": "code",
      "source": [
        "class House:\n",
        "    def __init__(self, address, price):\n",
        "        self.address = address\n",
        "        self.price = price\n",
        "\n",
        "class Mansion(House):\n",
        "    def __init__(self, address, price, number_of_rooms):\n",
        "        super().__init__(address, price)\n",
        "        self.number_of_rooms = number_of_rooms"
      ],
      "metadata": {
        "id": "MwOTJUx2MgGs"
      },
      "execution_count": 33,
      "outputs": []
    }
  ]
}